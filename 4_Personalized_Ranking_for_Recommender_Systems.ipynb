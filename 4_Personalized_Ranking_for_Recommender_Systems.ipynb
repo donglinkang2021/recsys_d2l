{
 "cells": [
  {
   "cell_type": "markdown",
   "metadata": {},
   "source": [
    "# Personalized Ranking for Recommender Systems\n",
    "\n",
    "- the former sections\n",
    "  - only **explicit** feedback \n",
    "  -  trained and tested on **observed** ratings\n",
    "- **non-observed** user-item pairs\n",
    "  - ignored in matrix factorization and autorec\n",
    "  - **implicit** feedback\n",
    "  - contains\n",
    "    - real negative feedback *users are not interested in*\n",
    "    - missing values *users are not aware of*\n",
    "- personalized ranking models can be optimized with\n",
    "  - **pointwise**\n",
    "    - consider **each** user-item pair as an independent instance\n",
    "    - a single interaction/rating at a time\n",
    "      - to predict the rating of a user-item pair\n",
    "    - matrix factorization and autorec\n",
    "  - **pairwise** *we introduce two loss in this section*\n",
    "    - consider **a pair of** items for each user\n",
    "    - aim to **rank** the positive item higher than the negative item *approximate the optimal ordering*\n",
    "    -  ranking task\n",
    "  - **listwise**\n",
    "    - approximate the ordering of **the entire list** of items\n",
    "    - Normalized Discounted Cumulative Gain *NDCG*"
   ]
  },
  {
   "cell_type": "markdown",
   "metadata": {},
   "source": [
    "## Bayesian Personalized Ranking Loss and its Implementation\n",
    "\n",
    "- **BPR**\n",
    "  - training data consists of both **positive** and **negative** pairs (missing values)\n",
    "  - user prefers the positive item over all other non-observed items\n",
    "  - aims to **maximize** the **posterior probability** \n",
    "$$\n",
    "p(\\Theta \\mid >_u )  \\propto  p(>_u \\mid \\Theta) p(\\Theta)\n",
    "$$\n",
    "where\n",
    "- $\\Theta$ is the model parameters\n",
    "- $>_u$ represents the desired ranking of all items for user $u$\n",
    "$$\n",
    "\\begin{split}\\begin{aligned}\n",
    "\\textrm{BPR-OPT} : &= \\ln p(\\Theta \\mid >_u) \\\\\n",
    "         & \\propto \\ln p(>_u \\mid \\Theta) p(\\Theta) \\\\\n",
    "         &= \\ln \\prod_{(u, i, j \\in D)} \\sigma(\\hat{y}_{ui} - \\hat{y}_{uj}) p(\\Theta) \\\\\n",
    "         &= \\sum_{(u, i, j \\in D)} \\ln \\sigma(\\hat{y}_{ui} - \\hat{y}_{uj}) + \\ln p(\\Theta) \\\\\n",
    "         &= \\sum_{(u, i, j \\in D)} \\ln \\sigma(\\hat{y}_{ui} - \\hat{y}_{uj}) - \\lambda_\\Theta \\|\\Theta \\|^2\n",
    "\\end{aligned}\\end{split}\n",
    "$$\n",
    "where\n",
    "- $D \\stackrel{\\textrm{def}}{=} \\{(u, i, j) \\mid i \\in I^+_u \\wedge j \\in I \\backslash I^+_u \\}$\n",
    "  - the training set\n",
    "  - $I^+_u$ is the set of items that user $u$ likes *(positive feedback)*\n",
    "  - $I$ is the set of all items *(positive and negative feedback)*\n",
    "  - $I \\backslash I^+_u$ is the set of items that user $u$ does not like *(negative feedback)*\n",
    "- $\\hat{y}_{ui}$ is the predicted rating of user $u$ on item $i$\n",
    "- $\\hat{y}_{uj}$ is the predicted rating of user $u$ on item $j$\n",
    "- $p(\\Theta)$ is a normal distribution\n",
    "  - with zero mean\n",
    "  - and variance-covariance matrix $\\lambda_\\Theta I$\n",
    "![ranking](images/rec-ranking.svg)"
   ]
  },
  {
   "cell_type": "code",
   "execution_count": 1,
   "metadata": {},
   "outputs": [],
   "source": [
    "import torch\n",
    "import torch.nn as nn\n",
    "import torch.nn.functional as F\n",
    "\n",
    "class BPRLoss(nn.Module):\n",
    "    def __init__(self):\n",
    "        super(BPRLoss, self).__init__()\n",
    "\n",
    "    def forward(self, pos, neg):\n",
    "        loss = -F.logsigmoid(pos - neg)\n",
    "        return loss.mean()"
   ]
  },
  {
   "cell_type": "markdown",
   "metadata": {},
   "source": [
    "## Hinge Loss and its Implementation\n",
    "\n",
    "$$\n",
    "\\sum_{(u, i, j \\in D)} \\max( m - \\hat{y}_{ui} + \\hat{y}_{uj}, 0)\n",
    "$$\n",
    "where\n",
    "- $m$ is a margin\n",
    "  - aims to push neg items further away from the pos items\n",
    "  - aims to **optimize for relevant distance** between the neg and pos items\n",
    "    - instead of absolute outputs"
   ]
  },
  {
   "cell_type": "code",
   "execution_count": null,
   "metadata": {},
   "outputs": [],
   "source": [
    "class HingeLoss(nn.Module):\n",
    "    def __init__(self):\n",
    "        super(HingeLoss, self).__init__()\n",
    "\n",
    "    def forward(self, pos, neg, margin=1.0):\n",
    "        loss = F.relu(neg - pos + margin)\n",
    "        return loss.mean()"
   ]
  }
 ],
 "metadata": {
  "kernelspec": {
   "display_name": "d2l",
   "language": "python",
   "name": "python3"
  },
  "language_info": {
   "codemirror_mode": {
    "name": "ipython",
    "version": 3
   },
   "file_extension": ".py",
   "mimetype": "text/x-python",
   "name": "python",
   "nbconvert_exporter": "python",
   "pygments_lexer": "ipython3",
   "version": "3.9.18"
  }
 },
 "nbformat": 4,
 "nbformat_minor": 2
}
